{
  "nbformat": 4,
  "nbformat_minor": 0,
  "metadata": {
    "colab": {
      "provenance": [],
      "authorship_tag": "ABX9TyPIJr21NBZdLmZH6iYsxgyE",
      "include_colab_link": true
    },
    "kernelspec": {
      "name": "python3",
      "display_name": "Python 3"
    },
    "language_info": {
      "name": "python"
    }
  },
  "cells": [
    {
      "cell_type": "markdown",
      "metadata": {
        "id": "view-in-github",
        "colab_type": "text"
      },
      "source": [
        "<a href=\"https://colab.research.google.com/github/masadeghi/journal_finder/blob/main/scimagojr_scrape.ipynb\" target=\"_parent\"><img src=\"https://colab.research.google.com/assets/colab-badge.svg\" alt=\"Open In Colab\"/></a>"
      ]
    },
    {
      "cell_type": "markdown",
      "source": [
        "# Import dependencies\n",
        "\n",
        "Note: The output datasets of this script are available in the scraped_from_scimago directory of the github repo."
      ],
      "metadata": {
        "id": "it8x6U-_OTrf"
      }
    },
    {
      "cell_type": "code",
      "source": [
        "!git clone https://github.com/masadeghi/journal_finder"
      ],
      "metadata": {
        "colab": {
          "base_uri": "https://localhost:8080/"
        },
        "id": "ILJ7ZgqzVgN2",
        "outputId": "75122afe-2b64-4a53-baa0-ccb94a6da33f"
      },
      "execution_count": 3,
      "outputs": [
        {
          "output_type": "stream",
          "name": "stdout",
          "text": [
            "Cloning into 'journal_finder'...\n",
            "remote: Enumerating objects: 12, done.\u001b[K\n",
            "remote: Counting objects: 100% (12/12), done.\u001b[K\n",
            "remote: Compressing objects: 100% (8/8), done.\u001b[K\n",
            "remote: Total 12 (delta 2), reused 0 (delta 0), pack-reused 0\u001b[K\n",
            "Unpacking objects: 100% (12/12), done.\n"
          ]
        }
      ]
    },
    {
      "cell_type": "code",
      "execution_count": 69,
      "metadata": {
        "id": "UhsMxZR0FyTv"
      },
      "outputs": [],
      "source": [
        "from bs4 import BeautifulSoup\n",
        "import requests\n",
        "\n",
        "# Setting the User Agent for requests to prevent IP blocking\n",
        "headers = requests.utils.default_headers()\n",
        "headers.update({\n",
        "    'User-Agent': 'Mozilla/5.0 (Linux; Android 12; SM-T875) AppleWebKit/537.36 (KHTML, like Gecko) Chrome/107.0.0.0 Safari/537.36',\n",
        "})"
      ]
    },
    {
      "cell_type": "markdown",
      "source": [
        "# Extract Rank, Sourceid, SJR, and Quartile information from scimagojr.com datasets\n",
        "\n",
        "Each dataset belongs to a specific subject area on the scimago website. The datasets included here are:\n",
        "* Biochemistry, Genetics and Molecular Biology\n",
        "* Immunology and Microbiology\n",
        "* Medicine\n",
        "* Neuroscience\n",
        "* Pharmacology, Toxicology, and Pharmaceutics\n"
      ],
      "metadata": {
        "id": "L-yAdRPXWmv5"
      }
    },
    {
      "cell_type": "code",
      "source": [
        "import csv\n",
        "import pandas as pd\n",
        "import numpy as np\n",
        "\n",
        "\n",
        "def journal_data_from_dataset(file_path):\n",
        "  \"\"\"\n",
        "  Given the path of a .csv file downloaded from scimagojr.com, extract Rank,\n",
        "  Sourceid, Title, SJR, and Quartile and present them in a pandas DataFrame.\n",
        "\n",
        "  Args:\n",
        "    file_path (str): The path to your file.\n",
        "  \n",
        "  Returns:\n",
        "    journals_table (DataFrame): a pandas DataFrame with the following columns:\n",
        "    ['Rank', 'Sourceid', 'Title', 'SJR', 'Q1]\n",
        "  \"\"\"\n",
        "\n",
        "  # pd.read_csv(sep = \";\") could not read the file correctly. Therefore, we have\n",
        "  # to read line by line.\n",
        "\n",
        "  # Initialize a dataframe to store journal information.\n",
        "  # Note: The 'Categories' column in the scimago datasets has a\n",
        "  # variable number of categories for each journal. This combined with the fact\n",
        "  # that these categories are separated by semicolons poses a problem for \n",
        "  # reading the file. To prevent any exceptions, we initialize the dataframe\n",
        "  # to have an arbitrarily large number of columns (e.g., 50) so it could\n",
        "  # accommodate any number of categories.\n",
        "\n",
        "  journals_table = pd.DataFrame(columns = range(50))\n",
        "\n",
        "  with open(file_path) as file:\n",
        "    reader_obj = csv.reader(file, delimiter = \"\\n\")\n",
        "    for i, row in enumerate(reader_obj):\n",
        "      split_row = row[0].split(sep = \";\")\n",
        "      # Pad each row with NaN\n",
        "      journals_table.loc[i, :] = split_row + [np.nan] * (len(journals_table.columns) - len(split_row))\n",
        "\n",
        "  journals_table.columns = journals_table.loc[0, :] # Rename Dataframe column names with first row\n",
        "  journals_table = journals_table.drop(0, axis = 0) # Remove first row\n",
        "  journals_table = journals_table[[\"Rank\", \"Sourceid\", \"Title\", \"SJR\", \"SJR Best Quartile\"]] # Select desired columns\n",
        "  journals_table[\"SJR\"] = pd.to_numeric(journals_table[\"SJR\"].str.replace(\",\", \".\"), errors = 'coerce') # Convert SJRs to float number\n",
        "\n",
        "  journals_table = journals_table.reset_index(drop = True) # Reset the index after all our modifications\n",
        "  \n",
        "  return journals_table"
      ],
      "metadata": {
        "id": "0TC5Ha2H6eMb"
      },
      "execution_count": 50,
      "outputs": []
    },
    {
      "cell_type": "code",
      "source": [
        "# Extract information from each of the datasets\n",
        "biochem_molbio_dataset = journal_data_from_dataset(\"/content/journal_finder/scimago_datasets/scimagojr 2021  Subject Area - Biochemistry, Genetics and Molecular Biology.csv\")\n",
        "immuno_micro_dataset = journal_data_from_dataset(\"/content/journal_finder/scimago_datasets/scimagojr 2021  Subject Area - Immunology and Microbiology.csv\")\n",
        "med_dataset = journal_data_from_dataset(\"/content/journal_finder/scimago_datasets/scimagojr 2021  Subject Area - Medicine.csv\")\n",
        "neuro_dataset = journal_data_from_dataset(\"/content/journal_finder/scimago_datasets/scimagojr 2021  Subject Area - Neuroscience.csv\")\n",
        "pharma_toxico_dataset = journal_data_from_dataset(\"/content/journal_finder/scimago_datasets/scimagojr 2021  Subject Area - Pharmacology, Toxicology and Pharmaceutics.csv\")"
      ],
      "metadata": {
        "id": "XKgAunzbX0Lr"
      },
      "execution_count": 60,
      "outputs": []
    },
    {
      "cell_type": "code",
      "source": [
        "pharma_toxico_dataset.head()"
      ],
      "metadata": {
        "colab": {
          "base_uri": "https://localhost:8080/",
          "height": 206
        },
        "id": "4elQ79v7YCRj",
        "outputId": "f64aa6e0-297b-4a57-9a4a-2e13d94d8f29"
      },
      "execution_count": 61,
      "outputs": [
        {
          "output_type": "execute_result",
          "data": {
            "text/plain": [
              "0 Rank    Sourceid                                           Title     SJR  \\\n",
              "0    1       20425                 \"Nature Reviews Drug Discovery\"  11.296   \n",
              "1    2       21191                       \"Pharmacological Reviews\"   5.540   \n",
              "2    3       19479  \"Annual Review of Pharmacology and Toxicology\"   4.002   \n",
              "3    4  4700152457                                    \"Nano Today\"   3.890   \n",
              "4    5       12611                       \"Drug Resistance Updates\"   3.845   \n",
              "\n",
              "0 SJR Best Quartile  \n",
              "0                Q1  \n",
              "1                Q1  \n",
              "2                Q1  \n",
              "3                Q1  \n",
              "4                Q1  "
            ],
            "text/html": [
              "\n",
              "  <div id=\"df-b3c6934d-997b-464d-a115-ec5946a609f6\">\n",
              "    <div class=\"colab-df-container\">\n",
              "      <div>\n",
              "<style scoped>\n",
              "    .dataframe tbody tr th:only-of-type {\n",
              "        vertical-align: middle;\n",
              "    }\n",
              "\n",
              "    .dataframe tbody tr th {\n",
              "        vertical-align: top;\n",
              "    }\n",
              "\n",
              "    .dataframe thead th {\n",
              "        text-align: right;\n",
              "    }\n",
              "</style>\n",
              "<table border=\"1\" class=\"dataframe\">\n",
              "  <thead>\n",
              "    <tr style=\"text-align: right;\">\n",
              "      <th></th>\n",
              "      <th>Rank</th>\n",
              "      <th>Sourceid</th>\n",
              "      <th>Title</th>\n",
              "      <th>SJR</th>\n",
              "      <th>SJR Best Quartile</th>\n",
              "    </tr>\n",
              "  </thead>\n",
              "  <tbody>\n",
              "    <tr>\n",
              "      <th>0</th>\n",
              "      <td>1</td>\n",
              "      <td>20425</td>\n",
              "      <td>\"Nature Reviews Drug Discovery\"</td>\n",
              "      <td>11.296</td>\n",
              "      <td>Q1</td>\n",
              "    </tr>\n",
              "    <tr>\n",
              "      <th>1</th>\n",
              "      <td>2</td>\n",
              "      <td>21191</td>\n",
              "      <td>\"Pharmacological Reviews\"</td>\n",
              "      <td>5.540</td>\n",
              "      <td>Q1</td>\n",
              "    </tr>\n",
              "    <tr>\n",
              "      <th>2</th>\n",
              "      <td>3</td>\n",
              "      <td>19479</td>\n",
              "      <td>\"Annual Review of Pharmacology and Toxicology\"</td>\n",
              "      <td>4.002</td>\n",
              "      <td>Q1</td>\n",
              "    </tr>\n",
              "    <tr>\n",
              "      <th>3</th>\n",
              "      <td>4</td>\n",
              "      <td>4700152457</td>\n",
              "      <td>\"Nano Today\"</td>\n",
              "      <td>3.890</td>\n",
              "      <td>Q1</td>\n",
              "    </tr>\n",
              "    <tr>\n",
              "      <th>4</th>\n",
              "      <td>5</td>\n",
              "      <td>12611</td>\n",
              "      <td>\"Drug Resistance Updates\"</td>\n",
              "      <td>3.845</td>\n",
              "      <td>Q1</td>\n",
              "    </tr>\n",
              "  </tbody>\n",
              "</table>\n",
              "</div>\n",
              "      <button class=\"colab-df-convert\" onclick=\"convertToInteractive('df-b3c6934d-997b-464d-a115-ec5946a609f6')\"\n",
              "              title=\"Convert this dataframe to an interactive table.\"\n",
              "              style=\"display:none;\">\n",
              "        \n",
              "  <svg xmlns=\"http://www.w3.org/2000/svg\" height=\"24px\"viewBox=\"0 0 24 24\"\n",
              "       width=\"24px\">\n",
              "    <path d=\"M0 0h24v24H0V0z\" fill=\"none\"/>\n",
              "    <path d=\"M18.56 5.44l.94 2.06.94-2.06 2.06-.94-2.06-.94-.94-2.06-.94 2.06-2.06.94zm-11 1L8.5 8.5l.94-2.06 2.06-.94-2.06-.94L8.5 2.5l-.94 2.06-2.06.94zm10 10l.94 2.06.94-2.06 2.06-.94-2.06-.94-.94-2.06-.94 2.06-2.06.94z\"/><path d=\"M17.41 7.96l-1.37-1.37c-.4-.4-.92-.59-1.43-.59-.52 0-1.04.2-1.43.59L10.3 9.45l-7.72 7.72c-.78.78-.78 2.05 0 2.83L4 21.41c.39.39.9.59 1.41.59.51 0 1.02-.2 1.41-.59l7.78-7.78 2.81-2.81c.8-.78.8-2.07 0-2.86zM5.41 20L4 18.59l7.72-7.72 1.47 1.35L5.41 20z\"/>\n",
              "  </svg>\n",
              "      </button>\n",
              "      \n",
              "  <style>\n",
              "    .colab-df-container {\n",
              "      display:flex;\n",
              "      flex-wrap:wrap;\n",
              "      gap: 12px;\n",
              "    }\n",
              "\n",
              "    .colab-df-convert {\n",
              "      background-color: #E8F0FE;\n",
              "      border: none;\n",
              "      border-radius: 50%;\n",
              "      cursor: pointer;\n",
              "      display: none;\n",
              "      fill: #1967D2;\n",
              "      height: 32px;\n",
              "      padding: 0 0 0 0;\n",
              "      width: 32px;\n",
              "    }\n",
              "\n",
              "    .colab-df-convert:hover {\n",
              "      background-color: #E2EBFA;\n",
              "      box-shadow: 0px 1px 2px rgba(60, 64, 67, 0.3), 0px 1px 3px 1px rgba(60, 64, 67, 0.15);\n",
              "      fill: #174EA6;\n",
              "    }\n",
              "\n",
              "    [theme=dark] .colab-df-convert {\n",
              "      background-color: #3B4455;\n",
              "      fill: #D2E3FC;\n",
              "    }\n",
              "\n",
              "    [theme=dark] .colab-df-convert:hover {\n",
              "      background-color: #434B5C;\n",
              "      box-shadow: 0px 1px 3px 1px rgba(0, 0, 0, 0.15);\n",
              "      filter: drop-shadow(0px 1px 2px rgba(0, 0, 0, 0.3));\n",
              "      fill: #FFFFFF;\n",
              "    }\n",
              "  </style>\n",
              "\n",
              "      <script>\n",
              "        const buttonEl =\n",
              "          document.querySelector('#df-b3c6934d-997b-464d-a115-ec5946a609f6 button.colab-df-convert');\n",
              "        buttonEl.style.display =\n",
              "          google.colab.kernel.accessAllowed ? 'block' : 'none';\n",
              "\n",
              "        async function convertToInteractive(key) {\n",
              "          const element = document.querySelector('#df-b3c6934d-997b-464d-a115-ec5946a609f6');\n",
              "          const dataTable =\n",
              "            await google.colab.kernel.invokeFunction('convertToInteractive',\n",
              "                                                     [key], {});\n",
              "          if (!dataTable) return;\n",
              "\n",
              "          const docLinkHtml = 'Like what you see? Visit the ' +\n",
              "            '<a target=\"_blank\" href=https://colab.research.google.com/notebooks/data_table.ipynb>data table notebook</a>'\n",
              "            + ' to learn more about interactive tables.';\n",
              "          element.innerHTML = '';\n",
              "          dataTable['output_type'] = 'display_data';\n",
              "          await google.colab.output.renderOutput(dataTable, element);\n",
              "          const docLink = document.createElement('div');\n",
              "          docLink.innerHTML = docLinkHtml;\n",
              "          element.appendChild(docLink);\n",
              "        }\n",
              "      </script>\n",
              "    </div>\n",
              "  </div>\n",
              "  "
            ]
          },
          "metadata": {},
          "execution_count": 61
        }
      ]
    },
    {
      "cell_type": "markdown",
      "source": [
        "# Make a list of journal URLs using each journal's Sourceid"
      ],
      "metadata": {
        "id": "dLiQV59sLG7a"
      }
    },
    {
      "cell_type": "code",
      "source": [
        "# Make URL-list using the Sourceid for each journal\n",
        "def dataset_to_url(dataset):\n",
        "  \"\"\"\n",
        "  Given a dataset with a column \"Sourceid\", a \"URL\" column to the dataset \n",
        "  containing the URLs for each journal\n",
        "\n",
        "  Args:\n",
        "    dataset (DataFrame): A DataFrame containing a \"Sourceid\" column.\n",
        "  \n",
        "  Returns:\n",
        "    dataset (DataFrame): The input dataset with an added column \"URL\" containing\n",
        "    the URLs for each journal\n",
        "  \"\"\"\n",
        "  URL_list = ['https://www.scimagojr.com/journalsearch.php?q=' + i + '&tip=sid&clean=0' for i in dataset[\"Sourceid\"]]\n",
        "  dataset[\"URL\"] = URL_list\n",
        "\n",
        "  return dataset"
      ],
      "metadata": {
        "id": "QEcE4Kkt8xXn"
      },
      "execution_count": 62,
      "outputs": []
    },
    {
      "cell_type": "code",
      "source": [
        "biochem_molbio_dataset = dataset_to_url(biochem_molbio_dataset)\n",
        "immuno_micro_dataset = dataset_to_url(immuno_micro_dataset)\n",
        "med_dataset = dataset_to_url(med_dataset)\n",
        "neuro_dataset = dataset_to_url(neuro_dataset)\n",
        "pharma_toxico_dataset = dataset_to_url(pharma_toxico_dataset)"
      ],
      "metadata": {
        "id": "dIg-C0N_grSm"
      },
      "execution_count": 63,
      "outputs": []
    },
    {
      "cell_type": "code",
      "source": [
        "pharma_toxico_dataset.head()"
      ],
      "metadata": {
        "colab": {
          "base_uri": "https://localhost:8080/",
          "height": 206
        },
        "id": "Fe3gDlHehECA",
        "outputId": "60365db4-3925-4b53-8f02-1268390fcb27"
      },
      "execution_count": 64,
      "outputs": [
        {
          "output_type": "execute_result",
          "data": {
            "text/plain": [
              "0 Rank    Sourceid                                           Title     SJR  \\\n",
              "0    1       20425                 \"Nature Reviews Drug Discovery\"  11.296   \n",
              "1    2       21191                       \"Pharmacological Reviews\"   5.540   \n",
              "2    3       19479  \"Annual Review of Pharmacology and Toxicology\"   4.002   \n",
              "3    4  4700152457                                    \"Nano Today\"   3.890   \n",
              "4    5       12611                       \"Drug Resistance Updates\"   3.845   \n",
              "\n",
              "0 SJR Best Quartile                                                URL  \n",
              "0                Q1  https://www.scimagojr.com/journalsearch.php?q=...  \n",
              "1                Q1  https://www.scimagojr.com/journalsearch.php?q=...  \n",
              "2                Q1  https://www.scimagojr.com/journalsearch.php?q=...  \n",
              "3                Q1  https://www.scimagojr.com/journalsearch.php?q=...  \n",
              "4                Q1  https://www.scimagojr.com/journalsearch.php?q=...  "
            ],
            "text/html": [
              "\n",
              "  <div id=\"df-9023ec67-e3d2-430e-8737-02ee905c34f8\">\n",
              "    <div class=\"colab-df-container\">\n",
              "      <div>\n",
              "<style scoped>\n",
              "    .dataframe tbody tr th:only-of-type {\n",
              "        vertical-align: middle;\n",
              "    }\n",
              "\n",
              "    .dataframe tbody tr th {\n",
              "        vertical-align: top;\n",
              "    }\n",
              "\n",
              "    .dataframe thead th {\n",
              "        text-align: right;\n",
              "    }\n",
              "</style>\n",
              "<table border=\"1\" class=\"dataframe\">\n",
              "  <thead>\n",
              "    <tr style=\"text-align: right;\">\n",
              "      <th></th>\n",
              "      <th>Rank</th>\n",
              "      <th>Sourceid</th>\n",
              "      <th>Title</th>\n",
              "      <th>SJR</th>\n",
              "      <th>SJR Best Quartile</th>\n",
              "      <th>URL</th>\n",
              "    </tr>\n",
              "  </thead>\n",
              "  <tbody>\n",
              "    <tr>\n",
              "      <th>0</th>\n",
              "      <td>1</td>\n",
              "      <td>20425</td>\n",
              "      <td>\"Nature Reviews Drug Discovery\"</td>\n",
              "      <td>11.296</td>\n",
              "      <td>Q1</td>\n",
              "      <td>https://www.scimagojr.com/journalsearch.php?q=...</td>\n",
              "    </tr>\n",
              "    <tr>\n",
              "      <th>1</th>\n",
              "      <td>2</td>\n",
              "      <td>21191</td>\n",
              "      <td>\"Pharmacological Reviews\"</td>\n",
              "      <td>5.540</td>\n",
              "      <td>Q1</td>\n",
              "      <td>https://www.scimagojr.com/journalsearch.php?q=...</td>\n",
              "    </tr>\n",
              "    <tr>\n",
              "      <th>2</th>\n",
              "      <td>3</td>\n",
              "      <td>19479</td>\n",
              "      <td>\"Annual Review of Pharmacology and Toxicology\"</td>\n",
              "      <td>4.002</td>\n",
              "      <td>Q1</td>\n",
              "      <td>https://www.scimagojr.com/journalsearch.php?q=...</td>\n",
              "    </tr>\n",
              "    <tr>\n",
              "      <th>3</th>\n",
              "      <td>4</td>\n",
              "      <td>4700152457</td>\n",
              "      <td>\"Nano Today\"</td>\n",
              "      <td>3.890</td>\n",
              "      <td>Q1</td>\n",
              "      <td>https://www.scimagojr.com/journalsearch.php?q=...</td>\n",
              "    </tr>\n",
              "    <tr>\n",
              "      <th>4</th>\n",
              "      <td>5</td>\n",
              "      <td>12611</td>\n",
              "      <td>\"Drug Resistance Updates\"</td>\n",
              "      <td>3.845</td>\n",
              "      <td>Q1</td>\n",
              "      <td>https://www.scimagojr.com/journalsearch.php?q=...</td>\n",
              "    </tr>\n",
              "  </tbody>\n",
              "</table>\n",
              "</div>\n",
              "      <button class=\"colab-df-convert\" onclick=\"convertToInteractive('df-9023ec67-e3d2-430e-8737-02ee905c34f8')\"\n",
              "              title=\"Convert this dataframe to an interactive table.\"\n",
              "              style=\"display:none;\">\n",
              "        \n",
              "  <svg xmlns=\"http://www.w3.org/2000/svg\" height=\"24px\"viewBox=\"0 0 24 24\"\n",
              "       width=\"24px\">\n",
              "    <path d=\"M0 0h24v24H0V0z\" fill=\"none\"/>\n",
              "    <path d=\"M18.56 5.44l.94 2.06.94-2.06 2.06-.94-2.06-.94-.94-2.06-.94 2.06-2.06.94zm-11 1L8.5 8.5l.94-2.06 2.06-.94-2.06-.94L8.5 2.5l-.94 2.06-2.06.94zm10 10l.94 2.06.94-2.06 2.06-.94-2.06-.94-.94-2.06-.94 2.06-2.06.94z\"/><path d=\"M17.41 7.96l-1.37-1.37c-.4-.4-.92-.59-1.43-.59-.52 0-1.04.2-1.43.59L10.3 9.45l-7.72 7.72c-.78.78-.78 2.05 0 2.83L4 21.41c.39.39.9.59 1.41.59.51 0 1.02-.2 1.41-.59l7.78-7.78 2.81-2.81c.8-.78.8-2.07 0-2.86zM5.41 20L4 18.59l7.72-7.72 1.47 1.35L5.41 20z\"/>\n",
              "  </svg>\n",
              "      </button>\n",
              "      \n",
              "  <style>\n",
              "    .colab-df-container {\n",
              "      display:flex;\n",
              "      flex-wrap:wrap;\n",
              "      gap: 12px;\n",
              "    }\n",
              "\n",
              "    .colab-df-convert {\n",
              "      background-color: #E8F0FE;\n",
              "      border: none;\n",
              "      border-radius: 50%;\n",
              "      cursor: pointer;\n",
              "      display: none;\n",
              "      fill: #1967D2;\n",
              "      height: 32px;\n",
              "      padding: 0 0 0 0;\n",
              "      width: 32px;\n",
              "    }\n",
              "\n",
              "    .colab-df-convert:hover {\n",
              "      background-color: #E2EBFA;\n",
              "      box-shadow: 0px 1px 2px rgba(60, 64, 67, 0.3), 0px 1px 3px 1px rgba(60, 64, 67, 0.15);\n",
              "      fill: #174EA6;\n",
              "    }\n",
              "\n",
              "    [theme=dark] .colab-df-convert {\n",
              "      background-color: #3B4455;\n",
              "      fill: #D2E3FC;\n",
              "    }\n",
              "\n",
              "    [theme=dark] .colab-df-convert:hover {\n",
              "      background-color: #434B5C;\n",
              "      box-shadow: 0px 1px 3px 1px rgba(0, 0, 0, 0.15);\n",
              "      filter: drop-shadow(0px 1px 2px rgba(0, 0, 0, 0.3));\n",
              "      fill: #FFFFFF;\n",
              "    }\n",
              "  </style>\n",
              "\n",
              "      <script>\n",
              "        const buttonEl =\n",
              "          document.querySelector('#df-9023ec67-e3d2-430e-8737-02ee905c34f8 button.colab-df-convert');\n",
              "        buttonEl.style.display =\n",
              "          google.colab.kernel.accessAllowed ? 'block' : 'none';\n",
              "\n",
              "        async function convertToInteractive(key) {\n",
              "          const element = document.querySelector('#df-9023ec67-e3d2-430e-8737-02ee905c34f8');\n",
              "          const dataTable =\n",
              "            await google.colab.kernel.invokeFunction('convertToInteractive',\n",
              "                                                     [key], {});\n",
              "          if (!dataTable) return;\n",
              "\n",
              "          const docLinkHtml = 'Like what you see? Visit the ' +\n",
              "            '<a target=\"_blank\" href=https://colab.research.google.com/notebooks/data_table.ipynb>data table notebook</a>'\n",
              "            + ' to learn more about interactive tables.';\n",
              "          element.innerHTML = '';\n",
              "          dataTable['output_type'] = 'display_data';\n",
              "          await google.colab.output.renderOutput(dataTable, element);\n",
              "          const docLink = document.createElement('div');\n",
              "          docLink.innerHTML = docLinkHtml;\n",
              "          element.appendChild(docLink);\n",
              "        }\n",
              "      </script>\n",
              "    </div>\n",
              "  </div>\n",
              "  "
            ]
          },
          "metadata": {},
          "execution_count": 64
        }
      ]
    },
    {
      "cell_type": "markdown",
      "source": [
        "# Define function for extracting relevant information from each journal page"
      ],
      "metadata": {
        "id": "BfrPt5RPWetg"
      }
    },
    {
      "cell_type": "code",
      "source": [
        "def extract_journal_info(journal_url):\n",
        "  \"\"\"\n",
        "  Given a journal url from the scimago website, extract journal name and scope.\n",
        "\n",
        "  Args:\n",
        "    journal_url (str): The URL for the journal page on scimagojr.com.\n",
        "  \n",
        "  Returns:\n",
        "    a dictionary containing {name : 'journal_name', scope: 'journal_scope'}\n",
        "  \"\"\"\n",
        "\n",
        "  # Make a request to journal_url\n",
        "  # Store the result in 'page' variable\n",
        "  page = requests.get(journal_url)\n",
        "  txt = page.text\n",
        "  status = page.status_code\n",
        "\n",
        "  #parse page text\n",
        "  soup = BeautifulSoup(page.content, 'html.parser')\n",
        "\n",
        "  # Extract journal name (page title)\n",
        "  journal_name = soup.title.text\n",
        "  journal_name = journal_name.lower()\n",
        "\n",
        "  # Create a list of h2 tags from the page ('Scope' is an h2 tag)\n",
        "  all_h2_tags = []\n",
        "  for element in soup.select('h2'):\n",
        "    all_h2_tags.append(element.text)\n",
        "\n",
        "  # Extracting the scope\n",
        "  if 'Scope' in all_h2_tags:\n",
        "    journal_scope = page.text.split(\"Scope</h2>\",1)[1]\n",
        "    journal_scope = journal_scope.split(\"<a\", 1)[0]\n",
        "    journal_scope = journal_scope.strip()\n",
        "    journal_scope = journal_scope.lower()\n",
        "  else:\n",
        "    journal_scope = None\n",
        "\n",
        "  \n",
        "  journal_info = {'name' : journal_name,\n",
        "                  'scope' : journal_scope}\n",
        "  \n",
        "  return journal_info\n",
        "  "
      ],
      "metadata": {
        "id": "WrEubeIISXPx"
      },
      "execution_count": 67,
      "outputs": []
    },
    {
      "cell_type": "code",
      "source": [
        "extract_journal_info('https://www.scimagojr.com/journalsearch.php?q=25939&tip=sid&clean=0')"
      ],
      "metadata": {
        "colab": {
          "base_uri": "https://localhost:8080/"
        },
        "id": "rqRWavFpQnuN",
        "outputId": "24bdeaaf-5fb9-414e-812d-3cd19815a8d6"
      },
      "execution_count": 70,
      "outputs": [
        {
          "output_type": "execute_result",
          "data": {
            "text/plain": [
              "{'name': 'macromolecular rapid communications',\n",
              " 'scope': 'macromolecular rapid communications publishes original research in polymer science, ranging from chemistry and physics of polymers to polymers in materials science and life sciences.'}"
            ]
          },
          "metadata": {},
          "execution_count": 70
        }
      ]
    },
    {
      "cell_type": "markdown",
      "source": [
        "# Scrape each journal's webpage using its URLs to extract its scope; add the scopes to each category's dataset"
      ],
      "metadata": {
        "id": "UfphGJubLV82"
      }
    },
    {
      "cell_type": "code",
      "source": [
        "from time import sleep\n",
        "from random import randint\n",
        "\n",
        "def scimago_scraper(dataset):\n",
        "  \"\"\"\n",
        "  Given a dataset containing a \"URL\" column, scrape each URL and extract\n",
        "  the Scope of each journal from its webpage.\n",
        "\n",
        "  Args:\n",
        "    dataset (DataFrame): A dataset containing a \"URL\" column\n",
        "\n",
        "  Returns:\n",
        "    dataset (Dataframe): The input dataset with an added \"Scope\" column\n",
        "    which contains the scope of each journal.\n",
        "  \"\"\"\n",
        "  complete_dataset = dataset.copy()\n",
        "\n",
        "  # Initialize a 'Scope' column in the dataset dataframe\n",
        "  complete_dataset[\"Scope\"] = [np.nan] * len(complete_dataset)\n",
        "\n",
        "  URL_list = complete_dataset[\"URL\"].tolist()\n",
        "\n",
        "  for i, url in enumerate(URL_list):\n",
        "    journal_info = extract_journal_info(url)\n",
        "    complete_dataset.loc[i, \"Scope\"] = journal_info[\"scope\"]\n",
        "    if i % 500 == 0 and i != 0:\n",
        "      print('Successfuly went through 500 pages')\n",
        "    sleep(randint(1, 3)) # Random time gaps between requests to prevent IP blocking by the server\n",
        "\n",
        "  return complete_dataset"
      ],
      "metadata": {
        "id": "pIkSKLnrE5tt"
      },
      "execution_count": 84,
      "outputs": []
    },
    {
      "cell_type": "code",
      "source": [
        "biochem_molbio_dataset = scimago_scraper(biochem_molbio_dataset)"
      ],
      "metadata": {
        "id": "BR0A_OhhytaL"
      },
      "execution_count": null,
      "outputs": []
    },
    {
      "cell_type": "code",
      "source": [
        "immuno_micro_dataset = scimago_scraper(immuno_micro_dataset)"
      ],
      "metadata": {
        "colab": {
          "base_uri": "https://localhost:8080/"
        },
        "id": "b1zxSeBGyrti",
        "outputId": "5159c69f-4272-4cb6-a573-ec0c0434b5e6"
      },
      "execution_count": 96,
      "outputs": [
        {
          "output_type": "stream",
          "name": "stdout",
          "text": [
            "Successfuly went through 500 pages\n"
          ]
        }
      ]
    },
    {
      "cell_type": "code",
      "source": [
        "med_dataset = scimago_scraper(med_dataset)"
      ],
      "metadata": {
        "id": "oCkDz8dHyg6z"
      },
      "execution_count": null,
      "outputs": []
    },
    {
      "cell_type": "code",
      "source": [
        "pharma_toxico_dataset = scimago_scraper(pharma_toxico_dataset)"
      ],
      "metadata": {
        "id": "NjO5VKKWtd3L"
      },
      "execution_count": null,
      "outputs": []
    },
    {
      "cell_type": "code",
      "source": [
        "neuro_dataset = scimago_scraper(neuro_dataset)"
      ],
      "metadata": {
        "id": "IE7TVi0ikbcq"
      },
      "execution_count": null,
      "outputs": []
    },
    {
      "cell_type": "code",
      "source": [
        "pharma_toxico_dataset.head()"
      ],
      "metadata": {
        "colab": {
          "base_uri": "https://localhost:8080/",
          "height": 206
        },
        "id": "HbaW8kqAsy05",
        "outputId": "3652eff3-a9bb-47f8-82d0-c5c09001ed50"
      },
      "execution_count": 90,
      "outputs": [
        {
          "output_type": "execute_result",
          "data": {
            "text/plain": [
              "0 Rank    Sourceid                                           Title     SJR  \\\n",
              "0    1       20425                 \"Nature Reviews Drug Discovery\"  11.296   \n",
              "1    2       21191                       \"Pharmacological Reviews\"   5.540   \n",
              "2    3       19479  \"Annual Review of Pharmacology and Toxicology\"   4.002   \n",
              "3    4  4700152457                                    \"Nano Today\"   3.890   \n",
              "4    5       12611                       \"Drug Resistance Updates\"   3.845   \n",
              "\n",
              "0 SJR Best Quartile                                                URL  \\\n",
              "0                Q1  https://www.scimagojr.com/journalsearch.php?q=...   \n",
              "1                Q1  https://www.scimagojr.com/journalsearch.php?q=...   \n",
              "2                Q1  https://www.scimagojr.com/journalsearch.php?q=...   \n",
              "3                Q1  https://www.scimagojr.com/journalsearch.php?q=...   \n",
              "4                Q1  https://www.scimagojr.com/journalsearch.php?q=...   \n",
              "\n",
              "0                                              Scope  \n",
              "0  nature reviews drug discovery is a monthly jou...  \n",
              "1  pharmacological reviews presents important rev...  \n",
              "2  the annual review of pharmacology and toxicolo...  \n",
              "3  nano today publishes original articles on all ...  \n",
              "4  drug resistance updates is a bimonthly publica...  "
            ],
            "text/html": [
              "\n",
              "  <div id=\"df-5d396501-a376-4cd6-8c4d-e00e1294028c\">\n",
              "    <div class=\"colab-df-container\">\n",
              "      <div>\n",
              "<style scoped>\n",
              "    .dataframe tbody tr th:only-of-type {\n",
              "        vertical-align: middle;\n",
              "    }\n",
              "\n",
              "    .dataframe tbody tr th {\n",
              "        vertical-align: top;\n",
              "    }\n",
              "\n",
              "    .dataframe thead th {\n",
              "        text-align: right;\n",
              "    }\n",
              "</style>\n",
              "<table border=\"1\" class=\"dataframe\">\n",
              "  <thead>\n",
              "    <tr style=\"text-align: right;\">\n",
              "      <th></th>\n",
              "      <th>Rank</th>\n",
              "      <th>Sourceid</th>\n",
              "      <th>Title</th>\n",
              "      <th>SJR</th>\n",
              "      <th>SJR Best Quartile</th>\n",
              "      <th>URL</th>\n",
              "      <th>Scope</th>\n",
              "    </tr>\n",
              "  </thead>\n",
              "  <tbody>\n",
              "    <tr>\n",
              "      <th>0</th>\n",
              "      <td>1</td>\n",
              "      <td>20425</td>\n",
              "      <td>\"Nature Reviews Drug Discovery\"</td>\n",
              "      <td>11.296</td>\n",
              "      <td>Q1</td>\n",
              "      <td>https://www.scimagojr.com/journalsearch.php?q=...</td>\n",
              "      <td>nature reviews drug discovery is a monthly jou...</td>\n",
              "    </tr>\n",
              "    <tr>\n",
              "      <th>1</th>\n",
              "      <td>2</td>\n",
              "      <td>21191</td>\n",
              "      <td>\"Pharmacological Reviews\"</td>\n",
              "      <td>5.540</td>\n",
              "      <td>Q1</td>\n",
              "      <td>https://www.scimagojr.com/journalsearch.php?q=...</td>\n",
              "      <td>pharmacological reviews presents important rev...</td>\n",
              "    </tr>\n",
              "    <tr>\n",
              "      <th>2</th>\n",
              "      <td>3</td>\n",
              "      <td>19479</td>\n",
              "      <td>\"Annual Review of Pharmacology and Toxicology\"</td>\n",
              "      <td>4.002</td>\n",
              "      <td>Q1</td>\n",
              "      <td>https://www.scimagojr.com/journalsearch.php?q=...</td>\n",
              "      <td>the annual review of pharmacology and toxicolo...</td>\n",
              "    </tr>\n",
              "    <tr>\n",
              "      <th>3</th>\n",
              "      <td>4</td>\n",
              "      <td>4700152457</td>\n",
              "      <td>\"Nano Today\"</td>\n",
              "      <td>3.890</td>\n",
              "      <td>Q1</td>\n",
              "      <td>https://www.scimagojr.com/journalsearch.php?q=...</td>\n",
              "      <td>nano today publishes original articles on all ...</td>\n",
              "    </tr>\n",
              "    <tr>\n",
              "      <th>4</th>\n",
              "      <td>5</td>\n",
              "      <td>12611</td>\n",
              "      <td>\"Drug Resistance Updates\"</td>\n",
              "      <td>3.845</td>\n",
              "      <td>Q1</td>\n",
              "      <td>https://www.scimagojr.com/journalsearch.php?q=...</td>\n",
              "      <td>drug resistance updates is a bimonthly publica...</td>\n",
              "    </tr>\n",
              "  </tbody>\n",
              "</table>\n",
              "</div>\n",
              "      <button class=\"colab-df-convert\" onclick=\"convertToInteractive('df-5d396501-a376-4cd6-8c4d-e00e1294028c')\"\n",
              "              title=\"Convert this dataframe to an interactive table.\"\n",
              "              style=\"display:none;\">\n",
              "        \n",
              "  <svg xmlns=\"http://www.w3.org/2000/svg\" height=\"24px\"viewBox=\"0 0 24 24\"\n",
              "       width=\"24px\">\n",
              "    <path d=\"M0 0h24v24H0V0z\" fill=\"none\"/>\n",
              "    <path d=\"M18.56 5.44l.94 2.06.94-2.06 2.06-.94-2.06-.94-.94-2.06-.94 2.06-2.06.94zm-11 1L8.5 8.5l.94-2.06 2.06-.94-2.06-.94L8.5 2.5l-.94 2.06-2.06.94zm10 10l.94 2.06.94-2.06 2.06-.94-2.06-.94-.94-2.06-.94 2.06-2.06.94z\"/><path d=\"M17.41 7.96l-1.37-1.37c-.4-.4-.92-.59-1.43-.59-.52 0-1.04.2-1.43.59L10.3 9.45l-7.72 7.72c-.78.78-.78 2.05 0 2.83L4 21.41c.39.39.9.59 1.41.59.51 0 1.02-.2 1.41-.59l7.78-7.78 2.81-2.81c.8-.78.8-2.07 0-2.86zM5.41 20L4 18.59l7.72-7.72 1.47 1.35L5.41 20z\"/>\n",
              "  </svg>\n",
              "      </button>\n",
              "      \n",
              "  <style>\n",
              "    .colab-df-container {\n",
              "      display:flex;\n",
              "      flex-wrap:wrap;\n",
              "      gap: 12px;\n",
              "    }\n",
              "\n",
              "    .colab-df-convert {\n",
              "      background-color: #E8F0FE;\n",
              "      border: none;\n",
              "      border-radius: 50%;\n",
              "      cursor: pointer;\n",
              "      display: none;\n",
              "      fill: #1967D2;\n",
              "      height: 32px;\n",
              "      padding: 0 0 0 0;\n",
              "      width: 32px;\n",
              "    }\n",
              "\n",
              "    .colab-df-convert:hover {\n",
              "      background-color: #E2EBFA;\n",
              "      box-shadow: 0px 1px 2px rgba(60, 64, 67, 0.3), 0px 1px 3px 1px rgba(60, 64, 67, 0.15);\n",
              "      fill: #174EA6;\n",
              "    }\n",
              "\n",
              "    [theme=dark] .colab-df-convert {\n",
              "      background-color: #3B4455;\n",
              "      fill: #D2E3FC;\n",
              "    }\n",
              "\n",
              "    [theme=dark] .colab-df-convert:hover {\n",
              "      background-color: #434B5C;\n",
              "      box-shadow: 0px 1px 3px 1px rgba(0, 0, 0, 0.15);\n",
              "      filter: drop-shadow(0px 1px 2px rgba(0, 0, 0, 0.3));\n",
              "      fill: #FFFFFF;\n",
              "    }\n",
              "  </style>\n",
              "\n",
              "      <script>\n",
              "        const buttonEl =\n",
              "          document.querySelector('#df-5d396501-a376-4cd6-8c4d-e00e1294028c button.colab-df-convert');\n",
              "        buttonEl.style.display =\n",
              "          google.colab.kernel.accessAllowed ? 'block' : 'none';\n",
              "\n",
              "        async function convertToInteractive(key) {\n",
              "          const element = document.querySelector('#df-5d396501-a376-4cd6-8c4d-e00e1294028c');\n",
              "          const dataTable =\n",
              "            await google.colab.kernel.invokeFunction('convertToInteractive',\n",
              "                                                     [key], {});\n",
              "          if (!dataTable) return;\n",
              "\n",
              "          const docLinkHtml = 'Like what you see? Visit the ' +\n",
              "            '<a target=\"_blank\" href=https://colab.research.google.com/notebooks/data_table.ipynb>data table notebook</a>'\n",
              "            + ' to learn more about interactive tables.';\n",
              "          element.innerHTML = '';\n",
              "          dataTable['output_type'] = 'display_data';\n",
              "          await google.colab.output.renderOutput(dataTable, element);\n",
              "          const docLink = document.createElement('div');\n",
              "          docLink.innerHTML = docLinkHtml;\n",
              "          element.appendChild(docLink);\n",
              "        }\n",
              "      </script>\n",
              "    </div>\n",
              "  </div>\n",
              "  "
            ]
          },
          "metadata": {},
          "execution_count": 90
        }
      ]
    },
    {
      "cell_type": "markdown",
      "source": [
        "# Save the final datasets"
      ],
      "metadata": {
        "id": "qxMaZzTblJRr"
      }
    },
    {
      "cell_type": "code",
      "source": [
        "biochem_molbio_dataset.to_csv('biochem_molbio_journals.csv', index = False)"
      ],
      "metadata": {
        "id": "pFxT-lfc7o_D"
      },
      "execution_count": 95,
      "outputs": []
    },
    {
      "cell_type": "code",
      "source": [
        "immuno_micro_dataset.to_csv('immuno_micro_journals.csv', index = False)"
      ],
      "metadata": {
        "id": "srZ5RpGS7o0U"
      },
      "execution_count": 97,
      "outputs": []
    },
    {
      "cell_type": "code",
      "source": [
        "med_dataset.to_csv('med_journals.csv', index = False)"
      ],
      "metadata": {
        "id": "dnMBRyL87YkB"
      },
      "execution_count": null,
      "outputs": []
    },
    {
      "cell_type": "code",
      "source": [
        "pharma_toxico_dataset.to_csv('pharma_toxico_journals.csv', index = False)"
      ],
      "metadata": {
        "id": "t5Qt1paqrTMJ"
      },
      "execution_count": 93,
      "outputs": []
    },
    {
      "cell_type": "code",
      "source": [
        "neuro_dataset.to_csv('neuro_journals.csv', index = False)"
      ],
      "metadata": {
        "id": "JBmvbUK07Qt9"
      },
      "execution_count": 92,
      "outputs": []
    }
  ]
}